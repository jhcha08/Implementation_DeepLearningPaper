{
 "cells": [
  {
   "cell_type": "code",
   "execution_count": 1,
   "metadata": {},
   "outputs": [],
   "source": [
    "import torch\n",
    "import torch.nn as nn\n",
    "from math import sqrt\n",
    "\n",
    "class Conv_ReLU_Block(nn.Module):\n",
    "    def __init__(self):\n",
    "        super(Conv_ReLU_Block, self).__init__()\n",
    "        self.conv = nn.Conv2d(in_channels=64, out_channels=64, kernel_size=3, stride=1, padding=1, bias=False)\n",
    "        self.relu = nn.ReLU(inplace=True)\n",
    "        \n",
    "    def forward(self, x):\n",
    "        return self.relu(self.conv(x))\n",
    "        \n",
    "class VDSR(nn.Module):\n",
    "    def __init__(self):\n",
    "        super(VDSR, self).__init__()\n",
    "        self.residual_layer = self.make_layer(Conv_ReLU_Block, 18)\n",
    "        self.input = nn.Conv2d(in_channels=1, out_channels=64, kernel_size=3, stride=1, padding=1, bias=False) \n",
    "        self.output = nn.Conv2d(in_channels=64, out_channels=1, kernel_size=3, stride=1, padding=1, bias=False)\n",
    "        self.relu = nn.ReLU(inplace=True)\n",
    "    \n",
    "        for m in self.modules():\n",
    "            if isinstance(m, nn.Conv2d):\n",
    "                n = m.kernel_size[0] * m.kernel_size[1] * m.out_channels\n",
    "                m.weight.data.normal_(0, sqrt(2. / n))\n",
    "                \n",
    "    def make_layer(self, block, num_of_layer):\n",
    "        layers = []\n",
    "        for _ in range(num_of_layer):\n",
    "            layers.append(block())\n",
    "        return nn.Sequential(*layers)\n",
    "\n",
    "    def forward(self, x):\n",
    "        residual = x\n",
    "        out = self.relu(self.input(x))\n",
    "        out = self.residual_layer(out)\n",
    "        out = self.output(out)\n",
    "        out = torch.add(out,residual)\n",
    "        return out"
   ]
  },
  {
   "cell_type": "code",
   "execution_count": 5,
   "metadata": {},
   "outputs": [],
   "source": [
    "from torch.autograd import Variable\n",
    "\n",
    "def test_net():\n",
    "    net = VDSR()\n",
    "    y = net(Variable(torch.randn(1,1,128,128)))\n",
    "    print(y.size())"
   ]
  },
  {
   "cell_type": "code",
   "execution_count": 6,
   "metadata": {},
   "outputs": [
    {
     "name": "stdout",
     "output_type": "stream",
     "text": [
      "torch.Size([1, 1, 128, 128])\n"
     ]
    }
   ],
   "source": [
    "test_net()"
   ]
  },
  {
   "cell_type": "code",
   "execution_count": 8,
   "metadata": {},
   "outputs": [
    {
     "name": "stdout",
     "output_type": "stream",
     "text": [
      "----------------------------------------------------------------\n",
      "        Layer (type)               Output Shape         Param #\n",
      "================================================================\n",
      "            Conv2d-1         [-1, 64, 128, 128]             576\n",
      "              ReLU-2         [-1, 64, 128, 128]               0\n",
      "            Conv2d-3         [-1, 64, 128, 128]          36,864\n",
      "              ReLU-4         [-1, 64, 128, 128]               0\n",
      "   Conv_ReLU_Block-5         [-1, 64, 128, 128]               0\n",
      "            Conv2d-6         [-1, 64, 128, 128]          36,864\n",
      "              ReLU-7         [-1, 64, 128, 128]               0\n",
      "   Conv_ReLU_Block-8         [-1, 64, 128, 128]               0\n",
      "            Conv2d-9         [-1, 64, 128, 128]          36,864\n",
      "             ReLU-10         [-1, 64, 128, 128]               0\n",
      "  Conv_ReLU_Block-11         [-1, 64, 128, 128]               0\n",
      "           Conv2d-12         [-1, 64, 128, 128]          36,864\n",
      "             ReLU-13         [-1, 64, 128, 128]               0\n",
      "  Conv_ReLU_Block-14         [-1, 64, 128, 128]               0\n",
      "           Conv2d-15         [-1, 64, 128, 128]          36,864\n",
      "             ReLU-16         [-1, 64, 128, 128]               0\n",
      "  Conv_ReLU_Block-17         [-1, 64, 128, 128]               0\n",
      "           Conv2d-18         [-1, 64, 128, 128]          36,864\n",
      "             ReLU-19         [-1, 64, 128, 128]               0\n",
      "  Conv_ReLU_Block-20         [-1, 64, 128, 128]               0\n",
      "           Conv2d-21         [-1, 64, 128, 128]          36,864\n",
      "             ReLU-22         [-1, 64, 128, 128]               0\n",
      "  Conv_ReLU_Block-23         [-1, 64, 128, 128]               0\n",
      "           Conv2d-24         [-1, 64, 128, 128]          36,864\n",
      "             ReLU-25         [-1, 64, 128, 128]               0\n",
      "  Conv_ReLU_Block-26         [-1, 64, 128, 128]               0\n",
      "           Conv2d-27         [-1, 64, 128, 128]          36,864\n",
      "             ReLU-28         [-1, 64, 128, 128]               0\n",
      "  Conv_ReLU_Block-29         [-1, 64, 128, 128]               0\n",
      "           Conv2d-30         [-1, 64, 128, 128]          36,864\n",
      "             ReLU-31         [-1, 64, 128, 128]               0\n",
      "  Conv_ReLU_Block-32         [-1, 64, 128, 128]               0\n",
      "           Conv2d-33         [-1, 64, 128, 128]          36,864\n",
      "             ReLU-34         [-1, 64, 128, 128]               0\n",
      "  Conv_ReLU_Block-35         [-1, 64, 128, 128]               0\n",
      "           Conv2d-36         [-1, 64, 128, 128]          36,864\n",
      "             ReLU-37         [-1, 64, 128, 128]               0\n",
      "  Conv_ReLU_Block-38         [-1, 64, 128, 128]               0\n",
      "           Conv2d-39         [-1, 64, 128, 128]          36,864\n",
      "             ReLU-40         [-1, 64, 128, 128]               0\n",
      "  Conv_ReLU_Block-41         [-1, 64, 128, 128]               0\n",
      "           Conv2d-42         [-1, 64, 128, 128]          36,864\n",
      "             ReLU-43         [-1, 64, 128, 128]               0\n",
      "  Conv_ReLU_Block-44         [-1, 64, 128, 128]               0\n",
      "           Conv2d-45         [-1, 64, 128, 128]          36,864\n",
      "             ReLU-46         [-1, 64, 128, 128]               0\n",
      "  Conv_ReLU_Block-47         [-1, 64, 128, 128]               0\n",
      "           Conv2d-48         [-1, 64, 128, 128]          36,864\n",
      "             ReLU-49         [-1, 64, 128, 128]               0\n",
      "  Conv_ReLU_Block-50         [-1, 64, 128, 128]               0\n",
      "           Conv2d-51         [-1, 64, 128, 128]          36,864\n",
      "             ReLU-52         [-1, 64, 128, 128]               0\n",
      "  Conv_ReLU_Block-53         [-1, 64, 128, 128]               0\n",
      "           Conv2d-54         [-1, 64, 128, 128]          36,864\n",
      "             ReLU-55         [-1, 64, 128, 128]               0\n",
      "  Conv_ReLU_Block-56         [-1, 64, 128, 128]               0\n",
      "           Conv2d-57          [-1, 1, 128, 128]             576\n",
      "================================================================\n",
      "Total params: 664,704\n",
      "Trainable params: 664,704\n",
      "Non-trainable params: 0\n",
      "----------------------------------------------------------------\n",
      "Input size (MB): 0.06\n",
      "Forward/backward pass size (MB): 448.12\n",
      "Params size (MB): 2.54\n",
      "Estimated Total Size (MB): 450.72\n",
      "----------------------------------------------------------------\n"
     ]
    }
   ],
   "source": [
    "from torchsummary import summary\n",
    "model = VDSR()\n",
    "summary(model, (1, 128, 128))"
   ]
  },
  {
   "cell_type": "code",
   "execution_count": 9,
   "metadata": {},
   "outputs": [
    {
     "name": "stdout",
     "output_type": "stream",
     "text": [
      "+-------------------------------+------------+\n",
      "|            Modules            | Parameters |\n",
      "+-------------------------------+------------+\n",
      "|  residual_layer.0.conv.weight |   36864    |\n",
      "|  residual_layer.1.conv.weight |   36864    |\n",
      "|  residual_layer.2.conv.weight |   36864    |\n",
      "|  residual_layer.3.conv.weight |   36864    |\n",
      "|  residual_layer.4.conv.weight |   36864    |\n",
      "|  residual_layer.5.conv.weight |   36864    |\n",
      "|  residual_layer.6.conv.weight |   36864    |\n",
      "|  residual_layer.7.conv.weight |   36864    |\n",
      "|  residual_layer.8.conv.weight |   36864    |\n",
      "|  residual_layer.9.conv.weight |   36864    |\n",
      "| residual_layer.10.conv.weight |   36864    |\n",
      "| residual_layer.11.conv.weight |   36864    |\n",
      "| residual_layer.12.conv.weight |   36864    |\n",
      "| residual_layer.13.conv.weight |   36864    |\n",
      "| residual_layer.14.conv.weight |   36864    |\n",
      "| residual_layer.15.conv.weight |   36864    |\n",
      "| residual_layer.16.conv.weight |   36864    |\n",
      "| residual_layer.17.conv.weight |   36864    |\n",
      "|          input.weight         |    576     |\n",
      "|         output.weight         |    576     |\n",
      "+-------------------------------+------------+\n",
      "Total Trainable Params: 664704\n"
     ]
    },
    {
     "data": {
      "text/plain": [
       "664704"
      ]
     },
     "execution_count": 9,
     "metadata": {},
     "output_type": "execute_result"
    }
   ],
   "source": [
    "from prettytable import PrettyTable\n",
    "\n",
    "def count_parameters(model):\n",
    "    table = PrettyTable([\"Modules\", \"Parameters\"])\n",
    "    total_params = 0\n",
    "    for name, parameter in model.named_parameters():\n",
    "        if not parameter.requires_grad: continue\n",
    "        param = parameter.numel()\n",
    "        table.add_row([name, param])\n",
    "        total_params+=param\n",
    "    print(table)\n",
    "    print(f\"Total Trainable Params: {total_params}\")\n",
    "    return total_params\n",
    "\n",
    "model = VDSR()\n",
    "count_parameters(model)"
   ]
  },
  {
   "cell_type": "code",
   "execution_count": 10,
   "metadata": {},
   "outputs": [
    {
     "name": "stdout",
     "output_type": "stream",
     "text": [
      "664,704 total parameters.\n",
      "664,704 training parameters.\n"
     ]
    }
   ],
   "source": [
    "# Find total parameters and trainable parameters\n",
    "model = VDSR()\n",
    "total_params = sum(p.numel() for p in model.parameters())\n",
    "print(f'{total_params:,} total parameters.')\n",
    "total_trainable_params = sum(p.numel() for p in model.parameters() if p.requires_grad)\n",
    "print(f'{total_trainable_params:,} training parameters.')"
   ]
  }
 ],
 "metadata": {
  "kernelspec": {
   "display_name": "Python 3",
   "language": "python",
   "name": "python3"
  },
  "language_info": {
   "codemirror_mode": {
    "name": "ipython",
    "version": 3
   },
   "file_extension": ".py",
   "mimetype": "text/x-python",
   "name": "python",
   "nbconvert_exporter": "python",
   "pygments_lexer": "ipython3",
   "version": "3.7.4"
  }
 },
 "nbformat": 4,
 "nbformat_minor": 2
}
